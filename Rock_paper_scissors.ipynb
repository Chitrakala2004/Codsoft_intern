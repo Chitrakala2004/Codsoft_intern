{
  "cells": [
    {
      "cell_type": "markdown",
      "metadata": {
        "id": "view-in-github",
        "colab_type": "text"
      },
      "source": [
        "<a href=\"https://colab.research.google.com/github/Chitrakala2004/Codsoft_intern/blob/main/Rock_paper_scissors.ipynb\" target=\"_parent\"><img src=\"https://colab.research.google.com/assets/colab-badge.svg\" alt=\"Open In Colab\"/></a>"
      ]
    },
    {
      "cell_type": "code",
      "execution_count": null,
      "metadata": {
        "colab": {
          "background_save": true,
          "base_uri": "https://localhost:8080/"
        },
        "id": "agzmQAhdSyVe",
        "outputId": "a7e532be-1a91-4c76-8f30-765692f54bd1"
      },
      "outputs": [
        {
          "name": "stdout",
          "output_type": "stream",
          "text": [
            "\n",
            "--- Rock-Paper-Scissors Game ---\n"
          ]
        }
      ],
      "source": [
        "import random\n",
        "\n",
        "def get_user_choice():\n",
        "    while True:\n",
        "        user_choice = input(\"Choose rock, paper, or scissors: \").lower()\n",
        "        if user_choice in [\"rock\", \"paper\", \"scissors\"]:\n",
        "            return user_choice\n",
        "        else:\n",
        "            print(\"Invalid choice. Please enter rock, paper, or scissors.\")\n",
        "\n",
        "def get_computer_choice():\n",
        "    return random.choice([\"rock\", \"paper\", \"scissors\"])\n",
        "\n",
        "def determine_winner(user_choice, computer_choice):\n",
        "    if user_choice == computer_choice:\n",
        "        return \"It's a tie!\"\n",
        "    elif (user_choice == \"rock\" and computer_choice == \"scissors\") or \\\n",
        "         (user_choice == \"scissors\" and computer_choice == \"paper\") or \\\n",
        "         (user_choice == \"paper\" and computer_choice == \"rock\"):\n",
        "        return \"You win!\"\n",
        "    else:\n",
        "        return \"You lose!\"\n",
        "\n",
        "def rock_paper_scissors_game():\n",
        "    user_score = 0\n",
        "    computer_score = 0\n",
        "\n",
        "    while True:\n",
        "        print(\"\\n--- Rock-Paper-Scissors Game ---\")\n",
        "\n",
        "        user_choice = get_user_choice()\n",
        "        computer_choice = get_computer_choice()\n",
        "\n",
        "        print(f\"\\nYour choice: {user_choice}\")\n",
        "        print(f\"Computer's choice: {computer_choice}\")\n",
        "\n",
        "        result = determine_winner(user_choice, computer_choice)\n",
        "        print(result)\n",
        "\n",
        "        if \"win\" in result:\n",
        "            user_score += 1\n",
        "        elif \"lose\" in result:\n",
        "            computer_score += 1\n",
        "\n",
        "        print(f\"\\nScores - You: {user_score}, Computer: {computer_score}\")\n",
        "\n",
        "        play_again = input(\"Do you want to play again? (yes/no): \").lower()\n",
        "        if play_again != 'yes':\n",
        "            print(\"Thanks for playing,Bye!\")\n",
        "            break\n",
        "\n",
        "rock_paper_scissors_game()\n"
      ]
    }
  ],
  "metadata": {
    "colab": {
      "provenance": [],
      "authorship_tag": "ABX9TyOEr5PD89QfiCTmEIPHE3bB",
      "include_colab_link": true
    },
    "kernelspec": {
      "display_name": "Python 3",
      "name": "python3"
    },
    "language_info": {
      "name": "python"
    }
  },
  "nbformat": 4,
  "nbformat_minor": 0
}