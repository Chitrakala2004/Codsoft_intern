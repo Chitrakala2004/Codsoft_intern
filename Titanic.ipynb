{
  "nbformat": 4,
  "nbformat_minor": 0,
  "metadata": {
    "colab": {
      "provenance": [],
      "include_colab_link": true
    },
    "kernelspec": {
      "name": "python3",
      "display_name": "Python 3"
    },
    "language_info": {
      "name": "python"
    }
  },
  "cells": [
    {
      "cell_type": "markdown",
      "metadata": {
        "id": "view-in-github",
        "colab_type": "text"
      },
      "source": [
        "<a href=\"https://colab.research.google.com/github/Chitrakala2004/Codsoft_intern/blob/main/Titanic.ipynb\" target=\"_parent\"><img src=\"https://colab.research.google.com/assets/colab-badge.svg\" alt=\"Open In Colab\"/></a>"
      ]
    },
    {
      "cell_type": "code",
      "execution_count": null,
      "metadata": {
        "id": "q070TQkNqwbU",
        "colab": {
          "base_uri": "https://localhost:8080/"
        },
        "outputId": "e7719f0f-cf62-488d-bd09-66087e725348"
      },
      "outputs": [
        {
          "output_type": "stream",
          "name": "stdout",
          "text": [
            "----------------------------- DATA LOADING ------------------------------------\n",
            "\n",
            "      PassengerId  Survived                                          Name  \\\n",
            "0            892         0                              Kelly, Mr. James   \n",
            "1            893         1              Wilkes, Mrs. James (Ellen Needs)   \n",
            "2            894         0                     Myles, Mr. Thomas Francis   \n",
            "3            895         0                              Wirz, Mr. Albert   \n",
            "4            896         1  Hirvonen, Mrs. Alexander (Helga E Lindqvist)   \n",
            "..           ...       ...                                           ...   \n",
            "413         1305         0                            Spector, Mr. Woolf   \n",
            "414         1306         1                  Oliva y Ocana, Dona. Fermina   \n",
            "415         1307         0                  Saether, Mr. Simon Sivertsen   \n",
            "416         1308         0                           Ware, Mr. Frederick   \n",
            "417         1309         0                      Peter, Master. Michael J   \n",
            "\n",
            "        Sex   Age  SibSp  Parch              Ticket      Fare Cabin Embarked  \\\n",
            "0      male  34.5      0      0              330911    7.8292   NaN        Q   \n",
            "1    female  47.0      1      0              363272    7.0000   NaN        S   \n",
            "2      male  62.0      0      0              240276    9.6875   NaN        Q   \n",
            "3      male  27.0      0      0              315154    8.6625   NaN        S   \n",
            "4    female  22.0      1      1             3101298   12.2875   NaN        S   \n",
            "..      ...   ...    ...    ...                 ...       ...   ...      ...   \n",
            "413    male   NaN      0      0           A.5. 3236    8.0500   NaN        S   \n",
            "414  female  39.0      0      0            PC 17758  108.9000  C105        C   \n",
            "415    male  38.5      0      0  SOTON/O.Q. 3101262    7.2500   NaN        S   \n",
            "416    male   NaN      0      0              359309    8.0500   NaN        S   \n",
            "417    male   NaN      1      1                2668   22.3583   NaN        C   \n",
            "\n",
            "     Pclass  \n",
            "0         3  \n",
            "1         3  \n",
            "2         2  \n",
            "3         3  \n",
            "4         3  \n",
            "..      ...  \n",
            "413       3  \n",
            "414       1  \n",
            "415       3  \n",
            "416       3  \n",
            "417       3  \n",
            "\n",
            "[418 rows x 12 columns]\n"
          ]
        }
      ],
      "source": [
        "print(\"----------------------------- DATA LOADING ------------------------------------\")\n",
        "import pandas as pd\n",
        "data1=pd.read_csv(\"tested.csv\")\n",
        "print(\"\\n\",data1)"
      ]
    },
    {
      "cell_type": "code",
      "source": [
        "print(\".................................. DATA PREPROCESSING ........................\")\n",
        "data1.isna()"
      ],
      "metadata": {
        "id": "7e_YBwG_q1OG",
        "colab": {
          "base_uri": "https://localhost:8080/",
          "height": 441
        },
        "outputId": "43348cdb-d163-415a-c43c-1682506dfbad"
      },
      "execution_count": null,
      "outputs": [
        {
          "output_type": "stream",
          "name": "stdout",
          "text": [
            ".................................. DATA PREPROCESSING ........................\n"
          ]
        },
        {
          "output_type": "execute_result",
          "data": {
            "text/plain": [
              "     PassengerId  Survived   Name    Sex    Age  SibSp  Parch  Ticket   Fare  \\\n",
              "0          False     False  False  False  False  False  False   False  False   \n",
              "1          False     False  False  False  False  False  False   False  False   \n",
              "2          False     False  False  False  False  False  False   False  False   \n",
              "3          False     False  False  False  False  False  False   False  False   \n",
              "4          False     False  False  False  False  False  False   False  False   \n",
              "..           ...       ...    ...    ...    ...    ...    ...     ...    ...   \n",
              "413        False     False  False  False   True  False  False   False  False   \n",
              "414        False     False  False  False  False  False  False   False  False   \n",
              "415        False     False  False  False  False  False  False   False  False   \n",
              "416        False     False  False  False   True  False  False   False  False   \n",
              "417        False     False  False  False   True  False  False   False  False   \n",
              "\n",
              "     Cabin  Embarked  Pclass  \n",
              "0     True     False   False  \n",
              "1     True     False   False  \n",
              "2     True     False   False  \n",
              "3     True     False   False  \n",
              "4     True     False   False  \n",
              "..     ...       ...     ...  \n",
              "413   True     False   False  \n",
              "414  False     False   False  \n",
              "415   True     False   False  \n",
              "416   True     False   False  \n",
              "417   True     False   False  \n",
              "\n",
              "[418 rows x 12 columns]"
            ],
            "text/html": [
              "\n",
              "  <div id=\"df-32573623-73d5-43c9-a2a5-22266e50da97\" class=\"colab-df-container\">\n",
              "    <div>\n",
              "<style scoped>\n",
              "    .dataframe tbody tr th:only-of-type {\n",
              "        vertical-align: middle;\n",
              "    }\n",
              "\n",
              "    .dataframe tbody tr th {\n",
              "        vertical-align: top;\n",
              "    }\n",
              "\n",
              "    .dataframe thead th {\n",
              "        text-align: right;\n",
              "    }\n",
              "</style>\n",
              "<table border=\"1\" class=\"dataframe\">\n",
              "  <thead>\n",
              "    <tr style=\"text-align: right;\">\n",
              "      <th></th>\n",
              "      <th>PassengerId</th>\n",
              "      <th>Survived</th>\n",
              "      <th>Name</th>\n",
              "      <th>Sex</th>\n",
              "      <th>Age</th>\n",
              "      <th>SibSp</th>\n",
              "      <th>Parch</th>\n",
              "      <th>Ticket</th>\n",
              "      <th>Fare</th>\n",
              "      <th>Cabin</th>\n",
              "      <th>Embarked</th>\n",
              "      <th>Pclass</th>\n",
              "    </tr>\n",
              "  </thead>\n",
              "  <tbody>\n",
              "    <tr>\n",
              "      <th>0</th>\n",
              "      <td>False</td>\n",
              "      <td>False</td>\n",
              "      <td>False</td>\n",
              "      <td>False</td>\n",
              "      <td>False</td>\n",
              "      <td>False</td>\n",
              "      <td>False</td>\n",
              "      <td>False</td>\n",
              "      <td>False</td>\n",
              "      <td>True</td>\n",
              "      <td>False</td>\n",
              "      <td>False</td>\n",
              "    </tr>\n",
              "    <tr>\n",
              "      <th>1</th>\n",
              "      <td>False</td>\n",
              "      <td>False</td>\n",
              "      <td>False</td>\n",
              "      <td>False</td>\n",
              "      <td>False</td>\n",
              "      <td>False</td>\n",
              "      <td>False</td>\n",
              "      <td>False</td>\n",
              "      <td>False</td>\n",
              "      <td>True</td>\n",
              "      <td>False</td>\n",
              "      <td>False</td>\n",
              "    </tr>\n",
              "    <tr>\n",
              "      <th>2</th>\n",
              "      <td>False</td>\n",
              "      <td>False</td>\n",
              "      <td>False</td>\n",
              "      <td>False</td>\n",
              "      <td>False</td>\n",
              "      <td>False</td>\n",
              "      <td>False</td>\n",
              "      <td>False</td>\n",
              "      <td>False</td>\n",
              "      <td>True</td>\n",
              "      <td>False</td>\n",
              "      <td>False</td>\n",
              "    </tr>\n",
              "    <tr>\n",
              "      <th>3</th>\n",
              "      <td>False</td>\n",
              "      <td>False</td>\n",
              "      <td>False</td>\n",
              "      <td>False</td>\n",
              "      <td>False</td>\n",
              "      <td>False</td>\n",
              "      <td>False</td>\n",
              "      <td>False</td>\n",
              "      <td>False</td>\n",
              "      <td>True</td>\n",
              "      <td>False</td>\n",
              "      <td>False</td>\n",
              "    </tr>\n",
              "    <tr>\n",
              "      <th>4</th>\n",
              "      <td>False</td>\n",
              "      <td>False</td>\n",
              "      <td>False</td>\n",
              "      <td>False</td>\n",
              "      <td>False</td>\n",
              "      <td>False</td>\n",
              "      <td>False</td>\n",
              "      <td>False</td>\n",
              "      <td>False</td>\n",
              "      <td>True</td>\n",
              "      <td>False</td>\n",
              "      <td>False</td>\n",
              "    </tr>\n",
              "    <tr>\n",
              "      <th>...</th>\n",
              "      <td>...</td>\n",
              "      <td>...</td>\n",
              "      <td>...</td>\n",
              "      <td>...</td>\n",
              "      <td>...</td>\n",
              "      <td>...</td>\n",
              "      <td>...</td>\n",
              "      <td>...</td>\n",
              "      <td>...</td>\n",
              "      <td>...</td>\n",
              "      <td>...</td>\n",
              "      <td>...</td>\n",
              "    </tr>\n",
              "    <tr>\n",
              "      <th>413</th>\n",
              "      <td>False</td>\n",
              "      <td>False</td>\n",
              "      <td>False</td>\n",
              "      <td>False</td>\n",
              "      <td>True</td>\n",
              "      <td>False</td>\n",
              "      <td>False</td>\n",
              "      <td>False</td>\n",
              "      <td>False</td>\n",
              "      <td>True</td>\n",
              "      <td>False</td>\n",
              "      <td>False</td>\n",
              "    </tr>\n",
              "    <tr>\n",
              "      <th>414</th>\n",
              "      <td>False</td>\n",
              "      <td>False</td>\n",
              "      <td>False</td>\n",
              "      <td>False</td>\n",
              "      <td>False</td>\n",
              "      <td>False</td>\n",
              "      <td>False</td>\n",
              "      <td>False</td>\n",
              "      <td>False</td>\n",
              "      <td>False</td>\n",
              "      <td>False</td>\n",
              "      <td>False</td>\n",
              "    </tr>\n",
              "    <tr>\n",
              "      <th>415</th>\n",
              "      <td>False</td>\n",
              "      <td>False</td>\n",
              "      <td>False</td>\n",
              "      <td>False</td>\n",
              "      <td>False</td>\n",
              "      <td>False</td>\n",
              "      <td>False</td>\n",
              "      <td>False</td>\n",
              "      <td>False</td>\n",
              "      <td>True</td>\n",
              "      <td>False</td>\n",
              "      <td>False</td>\n",
              "    </tr>\n",
              "    <tr>\n",
              "      <th>416</th>\n",
              "      <td>False</td>\n",
              "      <td>False</td>\n",
              "      <td>False</td>\n",
              "      <td>False</td>\n",
              "      <td>True</td>\n",
              "      <td>False</td>\n",
              "      <td>False</td>\n",
              "      <td>False</td>\n",
              "      <td>False</td>\n",
              "      <td>True</td>\n",
              "      <td>False</td>\n",
              "      <td>False</td>\n",
              "    </tr>\n",
              "    <tr>\n",
              "      <th>417</th>\n",
              "      <td>False</td>\n",
              "      <td>False</td>\n",
              "      <td>False</td>\n",
              "      <td>False</td>\n",
              "      <td>True</td>\n",
              "      <td>False</td>\n",
              "      <td>False</td>\n",
              "      <td>False</td>\n",
              "      <td>False</td>\n",
              "      <td>True</td>\n",
              "      <td>False</td>\n",
              "      <td>False</td>\n",
              "    </tr>\n",
              "  </tbody>\n",
              "</table>\n",
              "<p>418 rows × 12 columns</p>\n",
              "</div>\n",
              "    <div class=\"colab-df-buttons\">\n",
              "\n",
              "  <div class=\"colab-df-container\">\n",
              "    <button class=\"colab-df-convert\" onclick=\"convertToInteractive('df-32573623-73d5-43c9-a2a5-22266e50da97')\"\n",
              "            title=\"Convert this dataframe to an interactive table.\"\n",
              "            style=\"display:none;\">\n",
              "\n",
              "  <svg xmlns=\"http://www.w3.org/2000/svg\" height=\"24px\" viewBox=\"0 -960 960 960\">\n",
              "    <path d=\"M120-120v-720h720v720H120Zm60-500h600v-160H180v160Zm220 220h160v-160H400v160Zm0 220h160v-160H400v160ZM180-400h160v-160H180v160Zm440 0h160v-160H620v160ZM180-180h160v-160H180v160Zm440 0h160v-160H620v160Z\"/>\n",
              "  </svg>\n",
              "    </button>\n",
              "\n",
              "  <style>\n",
              "    .colab-df-container {\n",
              "      display:flex;\n",
              "      gap: 12px;\n",
              "    }\n",
              "\n",
              "    .colab-df-convert {\n",
              "      background-color: #E8F0FE;\n",
              "      border: none;\n",
              "      border-radius: 50%;\n",
              "      cursor: pointer;\n",
              "      display: none;\n",
              "      fill: #1967D2;\n",
              "      height: 32px;\n",
              "      padding: 0 0 0 0;\n",
              "      width: 32px;\n",
              "    }\n",
              "\n",
              "    .colab-df-convert:hover {\n",
              "      background-color: #E2EBFA;\n",
              "      box-shadow: 0px 1px 2px rgba(60, 64, 67, 0.3), 0px 1px 3px 1px rgba(60, 64, 67, 0.15);\n",
              "      fill: #174EA6;\n",
              "    }\n",
              "\n",
              "    .colab-df-buttons div {\n",
              "      margin-bottom: 4px;\n",
              "    }\n",
              "\n",
              "    [theme=dark] .colab-df-convert {\n",
              "      background-color: #3B4455;\n",
              "      fill: #D2E3FC;\n",
              "    }\n",
              "\n",
              "    [theme=dark] .colab-df-convert:hover {\n",
              "      background-color: #434B5C;\n",
              "      box-shadow: 0px 1px 3px 1px rgba(0, 0, 0, 0.15);\n",
              "      filter: drop-shadow(0px 1px 2px rgba(0, 0, 0, 0.3));\n",
              "      fill: #FFFFFF;\n",
              "    }\n",
              "  </style>\n",
              "\n",
              "    <script>\n",
              "      const buttonEl =\n",
              "        document.querySelector('#df-32573623-73d5-43c9-a2a5-22266e50da97 button.colab-df-convert');\n",
              "      buttonEl.style.display =\n",
              "        google.colab.kernel.accessAllowed ? 'block' : 'none';\n",
              "\n",
              "      async function convertToInteractive(key) {\n",
              "        const element = document.querySelector('#df-32573623-73d5-43c9-a2a5-22266e50da97');\n",
              "        const dataTable =\n",
              "          await google.colab.kernel.invokeFunction('convertToInteractive',\n",
              "                                                    [key], {});\n",
              "        if (!dataTable) return;\n",
              "\n",
              "        const docLinkHtml = 'Like what you see? Visit the ' +\n",
              "          '<a target=\"_blank\" href=https://colab.research.google.com/notebooks/data_table.ipynb>data table notebook</a>'\n",
              "          + ' to learn more about interactive tables.';\n",
              "        element.innerHTML = '';\n",
              "        dataTable['output_type'] = 'display_data';\n",
              "        await google.colab.output.renderOutput(dataTable, element);\n",
              "        const docLink = document.createElement('div');\n",
              "        docLink.innerHTML = docLinkHtml;\n",
              "        element.appendChild(docLink);\n",
              "      }\n",
              "    </script>\n",
              "  </div>\n",
              "\n",
              "\n",
              "<div id=\"df-40d04508-0a80-48f2-981d-c65d5d2ad260\">\n",
              "  <button class=\"colab-df-quickchart\" onclick=\"quickchart('df-40d04508-0a80-48f2-981d-c65d5d2ad260')\"\n",
              "            title=\"Suggest charts.\"\n",
              "            style=\"display:none;\">\n",
              "\n",
              "<svg xmlns=\"http://www.w3.org/2000/svg\" height=\"24px\"viewBox=\"0 0 24 24\"\n",
              "     width=\"24px\">\n",
              "    <g>\n",
              "        <path d=\"M19 3H5c-1.1 0-2 .9-2 2v14c0 1.1.9 2 2 2h14c1.1 0 2-.9 2-2V5c0-1.1-.9-2-2-2zM9 17H7v-7h2v7zm4 0h-2V7h2v10zm4 0h-2v-4h2v4z\"/>\n",
              "    </g>\n",
              "</svg>\n",
              "  </button>\n",
              "\n",
              "<style>\n",
              "  .colab-df-quickchart {\n",
              "      --bg-color: #E8F0FE;\n",
              "      --fill-color: #1967D2;\n",
              "      --hover-bg-color: #E2EBFA;\n",
              "      --hover-fill-color: #174EA6;\n",
              "      --disabled-fill-color: #AAA;\n",
              "      --disabled-bg-color: #DDD;\n",
              "  }\n",
              "\n",
              "  [theme=dark] .colab-df-quickchart {\n",
              "      --bg-color: #3B4455;\n",
              "      --fill-color: #D2E3FC;\n",
              "      --hover-bg-color: #434B5C;\n",
              "      --hover-fill-color: #FFFFFF;\n",
              "      --disabled-bg-color: #3B4455;\n",
              "      --disabled-fill-color: #666;\n",
              "  }\n",
              "\n",
              "  .colab-df-quickchart {\n",
              "    background-color: var(--bg-color);\n",
              "    border: none;\n",
              "    border-radius: 50%;\n",
              "    cursor: pointer;\n",
              "    display: none;\n",
              "    fill: var(--fill-color);\n",
              "    height: 32px;\n",
              "    padding: 0;\n",
              "    width: 32px;\n",
              "  }\n",
              "\n",
              "  .colab-df-quickchart:hover {\n",
              "    background-color: var(--hover-bg-color);\n",
              "    box-shadow: 0 1px 2px rgba(60, 64, 67, 0.3), 0 1px 3px 1px rgba(60, 64, 67, 0.15);\n",
              "    fill: var(--button-hover-fill-color);\n",
              "  }\n",
              "\n",
              "  .colab-df-quickchart-complete:disabled,\n",
              "  .colab-df-quickchart-complete:disabled:hover {\n",
              "    background-color: var(--disabled-bg-color);\n",
              "    fill: var(--disabled-fill-color);\n",
              "    box-shadow: none;\n",
              "  }\n",
              "\n",
              "  .colab-df-spinner {\n",
              "    border: 2px solid var(--fill-color);\n",
              "    border-color: transparent;\n",
              "    border-bottom-color: var(--fill-color);\n",
              "    animation:\n",
              "      spin 1s steps(1) infinite;\n",
              "  }\n",
              "\n",
              "  @keyframes spin {\n",
              "    0% {\n",
              "      border-color: transparent;\n",
              "      border-bottom-color: var(--fill-color);\n",
              "      border-left-color: var(--fill-color);\n",
              "    }\n",
              "    20% {\n",
              "      border-color: transparent;\n",
              "      border-left-color: var(--fill-color);\n",
              "      border-top-color: var(--fill-color);\n",
              "    }\n",
              "    30% {\n",
              "      border-color: transparent;\n",
              "      border-left-color: var(--fill-color);\n",
              "      border-top-color: var(--fill-color);\n",
              "      border-right-color: var(--fill-color);\n",
              "    }\n",
              "    40% {\n",
              "      border-color: transparent;\n",
              "      border-right-color: var(--fill-color);\n",
              "      border-top-color: var(--fill-color);\n",
              "    }\n",
              "    60% {\n",
              "      border-color: transparent;\n",
              "      border-right-color: var(--fill-color);\n",
              "    }\n",
              "    80% {\n",
              "      border-color: transparent;\n",
              "      border-right-color: var(--fill-color);\n",
              "      border-bottom-color: var(--fill-color);\n",
              "    }\n",
              "    90% {\n",
              "      border-color: transparent;\n",
              "      border-bottom-color: var(--fill-color);\n",
              "    }\n",
              "  }\n",
              "</style>\n",
              "\n",
              "  <script>\n",
              "    async function quickchart(key) {\n",
              "      const quickchartButtonEl =\n",
              "        document.querySelector('#' + key + ' button');\n",
              "      quickchartButtonEl.disabled = true;  // To prevent multiple clicks.\n",
              "      quickchartButtonEl.classList.add('colab-df-spinner');\n",
              "      try {\n",
              "        const charts = await google.colab.kernel.invokeFunction(\n",
              "            'suggestCharts', [key], {});\n",
              "      } catch (error) {\n",
              "        console.error('Error during call to suggestCharts:', error);\n",
              "      }\n",
              "      quickchartButtonEl.classList.remove('colab-df-spinner');\n",
              "      quickchartButtonEl.classList.add('colab-df-quickchart-complete');\n",
              "    }\n",
              "    (() => {\n",
              "      let quickchartButtonEl =\n",
              "        document.querySelector('#df-40d04508-0a80-48f2-981d-c65d5d2ad260 button');\n",
              "      quickchartButtonEl.style.display =\n",
              "        google.colab.kernel.accessAllowed ? 'block' : 'none';\n",
              "    })();\n",
              "  </script>\n",
              "</div>\n",
              "    </div>\n",
              "  </div>\n"
            ]
          },
          "metadata": {},
          "execution_count": 106
        }
      ]
    },
    {
      "cell_type": "code",
      "source": [
        "from sklearn import preprocessing\n",
        "s = preprocessing.LabelEncoder()\n",
        "data1[\"Name\"] =s.fit_transform(data1[\"Name\"])\n",
        "data1[\"Name\"].unique()"
      ],
      "metadata": {
        "colab": {
          "base_uri": "https://localhost:8080/"
        },
        "id": "K9MIRv8WTC3V",
        "outputId": "ccfc47fc-089b-41b4-f82d-149b19185e79"
      },
      "execution_count": null,
      "outputs": [
        {
          "output_type": "execute_result",
          "data": {
            "text/plain": [
              "array([206, 403, 269, 408, 178, 366,  84,  57,   4, 103, 187, 196, 352,\n",
              "       184,  69, 415, 204,  21, 188,  20, 324, 284, 138, 406, 329, 318,\n",
              "       288,  97,  44, 339, 236, 190, 109, 195, 264, 203, 323,  55, 342,\n",
              "       170, 202, 148, 158,  88, 212, 300,  72, 345,  53,  92, 348, 309,\n",
              "       179, 144, 247, 314,  86,   2, 106,  71, 115, 255,  36,  43, 327,\n",
              "        89,  54, 265, 378, 145, 267, 263, 275, 289, 152, 205, 261,  90,\n",
              "         6, 121,  40, 363,  66, 111, 221, 209,  27,  25, 281, 392, 129,\n",
              "       299, 101, 163,  35, 369,  68, 244,  45, 271, 360, 391, 141, 192,\n",
              "       373, 182,  52, 326, 405, 367, 358, 346, 133,  51, 364,  75, 371,\n",
              "       341,  28,  70, 390, 211, 343,  65, 207,  94,  47, 254,  42, 303,\n",
              "       357, 161, 225, 370, 116,  62, 411, 344, 122, 160, 159, 100, 328,\n",
              "        29, 227, 379, 175, 102,  93, 220, 130, 250, 362, 217,  17, 126,\n",
              "        34, 237,  38, 297, 350, 376, 410, 298, 301, 215,  46, 143,  67,\n",
              "       171, 233, 412, 128, 375,  18,  48, 347, 359,  31,  82, 256,  81,\n",
              "       249, 222, 119, 251, 304, 104, 334, 381,  13, 338, 417, 232, 123,\n",
              "       200, 354, 277,  26, 311, 268,  99,  23, 310,  11, 286, 257,  80,\n",
              "       321, 110,   8, 137, 107, 185,   9, 169, 242, 399, 401, 374, 127,\n",
              "       312,  85, 199,  59, 266,  19, 259, 134, 180, 368, 404, 402, 230,\n",
              "        96, 382, 389,  24, 176, 120, 229,  74, 355, 186, 194, 208, 201,\n",
              "       124, 181, 210, 395,   3,  76, 337, 394, 240, 243, 276,  32, 260,\n",
              "       414, 278, 393, 216, 308, 239,  73, 388, 183, 306, 252, 146,  77,\n",
              "       226, 330,  50, 293, 135, 385, 290, 287, 295, 139, 377, 320, 113,\n",
              "       147, 351, 248, 142, 313,  98, 272, 117, 409,  12, 223, 340, 235,\n",
              "       193, 285, 245, 305, 307, 253,  95,   7,   5, 168, 165,  56, 380,\n",
              "       331,  63, 398, 164, 356, 319, 197, 191,  10, 218, 274, 325, 219,\n",
              "        22,  30, 322,  78, 132, 105, 125, 372, 270,  87, 241, 413, 131,\n",
              "       112,  33, 136, 238, 335,  61, 416,   1,  39, 396, 157, 383, 162,\n",
              "       361, 114, 174, 108, 198,  49, 234, 282, 228, 333, 246, 387, 365,\n",
              "       167, 336,  60, 315, 154, 291, 156, 407, 189, 166, 118,  41, 213,\n",
              "        91, 177,  16, 280, 140, 317, 258, 397, 173,  14,  15,  58, 292,\n",
              "       294, 231,   0, 155, 214, 349,  79, 150, 224,  83,  37, 151, 153,\n",
              "        64, 149, 279, 386, 400, 316, 296, 273, 262, 172, 353, 283, 332,\n",
              "       384, 302])"
            ]
          },
          "metadata": {},
          "execution_count": 107
        }
      ]
    },
    {
      "cell_type": "code",
      "source": [
        "data1[\"Sex\"] =s.fit_transform(data1[\"Sex\"])\n",
        "data1[\"Sex\"].unique()"
      ],
      "metadata": {
        "colab": {
          "base_uri": "https://localhost:8080/"
        },
        "id": "9FeIWWqXUR17",
        "outputId": "5fba8226-a420-4833-e003-0ed253d4af4f"
      },
      "execution_count": null,
      "outputs": [
        {
          "output_type": "execute_result",
          "data": {
            "text/plain": [
              "array([1, 0])"
            ]
          },
          "metadata": {},
          "execution_count": 108
        }
      ]
    },
    {
      "cell_type": "code",
      "source": [
        "data1[\"Ticket\"] =s.fit_transform(data1[\"Ticket\"])\n",
        "data1[\"Ticket\"].unique()"
      ],
      "metadata": {
        "colab": {
          "base_uri": "https://localhost:8080/"
        },
        "id": "lbHad8xSUvUS",
        "outputId": "ba9f9a31-ef95-4854-a92c-9e480bb4b21f"
      },
      "execution_count": null,
      "outputs": [
        {
          "output_type": "execute_result",
          "data": {
            "text/plain": [
              "array([152, 221,  73, 147, 138, 261, 158,  84, 100, 269, 195, 259,  52,\n",
              "        74, 362, 343,  60, 119, 356, 120, 316, 277, 314, 313, 319, 273,\n",
              "        14, 121,  11, 104, 338, 283, 280, 360,  34, 115, 166, 141, 172,\n",
              "        39, 204,  16, 347,  65,  24, 355, 312, 243,  30, 290,  37, 344,\n",
              "       131,  49, 335, 249, 198, 191, 253, 199,  64, 185, 159, 300, 155,\n",
              "        22,  89, 250, 194, 137, 306,  13, 219,  28,  85, 236, 111, 303,\n",
              "        47, 201,  72, 102, 150, 268, 224, 130, 179, 168, 297, 246,  38,\n",
              "       209,  46, 354, 190, 266,  29,  57, 227, 178,  92, 278, 153, 252,\n",
              "       163,  83,  68, 156, 304, 149, 113, 114, 328,  33, 337, 286, 232,\n",
              "       255, 237, 245, 210, 231,  51, 164, 357,  17, 256,  90, 196, 216,\n",
              "        99,  81, 353, 294,  18,  78,  43, 171,  41, 336,  20,  88,  26,\n",
              "       203, 239, 214, 181, 332, 189,   1, 351, 161,  94,  54, 167,  66,\n",
              "       146, 310, 361,  45, 262, 331, 106, 108, 134, 285,  58, 322,  59,\n",
              "        15, 263, 305,  71, 330, 270, 296, 126,  56,   3, 274,  61, 125,\n",
              "       187,  40, 177, 284, 257, 229, 183, 323,  93, 287, 298, 264, 123,\n",
              "       320, 202, 348, 333, 186,   9, 154, 238, 148, 340, 165, 359, 211,\n",
              "       317, 103, 212, 241, 293,  76,  55,  21, 135, 157, 315, 218,   2,\n",
              "       112,  87, 327,   6,  70, 175,  42, 107, 289, 352,  35, 260, 174,\n",
              "       291, 276, 222, 127, 169, 170, 217, 288, 200,   4, 292, 265, 144,\n",
              "       235, 242, 110,  62, 334, 133, 295, 358, 140, 226, 240, 272, 350,\n",
              "        98, 271, 318, 248,  95, 162, 173, 193, 345,  23, 188, 182,  69,\n",
              "       143, 251,   8, 254,  32, 208, 142, 101, 302, 233, 326, 275, 307,\n",
              "       122, 215, 180,  97,  80,  19,  75, 349, 309,  50,  63, 308, 116,\n",
              "        96, 197,   0,  79, 109,  91, 279, 213, 321, 192,  67, 117,  82,\n",
              "       299, 325, 301,  10,  27,  31, 234, 206, 329, 139,  25, 118, 136,\n",
              "         7, 339, 124,   5,  86, 145, 132, 258, 230, 151, 223, 247, 341,\n",
              "       207,  77, 225, 205, 311, 281, 282, 244,  36, 176,  53, 128,  12,\n",
              "        44, 342, 129, 160, 228,  48, 184, 267, 324, 346, 220, 105])"
            ]
          },
          "metadata": {},
          "execution_count": 109
        }
      ]
    },
    {
      "cell_type": "code",
      "source": [
        "data1[\"Embarked\"] =s.fit_transform(data1[\"Embarked\"])\n",
        "data1[\"Embarked\"].unique()"
      ],
      "metadata": {
        "colab": {
          "base_uri": "https://localhost:8080/"
        },
        "id": "ay3hOvbQUwTP",
        "outputId": "81a27bef-9ab8-4d94-f0bd-bb1d2237173d"
      },
      "execution_count": null,
      "outputs": [
        {
          "output_type": "execute_result",
          "data": {
            "text/plain": [
              "array([1, 2, 0])"
            ]
          },
          "metadata": {},
          "execution_count": 110
        }
      ]
    },
    {
      "cell_type": "code",
      "source": [
        "data1[\"Cabin\"] =s.fit_transform(data1[\"Cabin\"])\n",
        "data1[\"Cabin\"].unique()"
      ],
      "metadata": {
        "colab": {
          "base_uri": "https://localhost:8080/"
        },
        "id": "u4otfGHGWQBn",
        "outputId": "68642b64-259c-4e5d-fc9f-3fabad9ae86d"
      },
      "execution_count": null,
      "outputs": [
        {
          "output_type": "execute_result",
          "data": {
            "text/plain": [
              "array([76, 12, 60, 15, 10,  2, 41, 55, 50,  5, 49, 30, 28, 71, 17, 35, 59,\n",
              "       25, 26, 21, 37, 19, 33, 24, 68,  3, 75, 38, 29, 34, 64, 36, 46, 52,\n",
              "        6, 74, 63, 66, 54, 16, 61, 39,  0,  7, 42, 73, 43, 56, 44, 51, 45,\n",
              "       69,  4, 47,  9, 27, 18, 31, 20, 70, 72,  1, 23, 13, 48, 67, 65, 62,\n",
              "       14, 32,  8, 53, 11, 40, 58, 57, 22])"
            ]
          },
          "metadata": {},
          "execution_count": 111
        }
      ]
    },
    {
      "cell_type": "code",
      "source": [
        "data1[\"Age\"] =s.fit_transform(data1[\"Age\"])\n",
        "data1[\"Age\"].unique()"
      ],
      "metadata": {
        "colab": {
          "base_uri": "https://localhost:8080/"
        },
        "id": "yWZesOOYWVdc",
        "outputId": "a40c3b18-1628-4b98-f796-8099a493d197"
      },
      "execution_count": null,
      "outputs": [
        {
          "output_type": "execute_result",
          "data": {
            "text/plain": [
              "array([44, 60, 74, 34, 27, 17, 38, 32, 22, 26, 79, 59, 29, 75, 30, 45, 58,\n",
              "       67, 12, 61, 63, 28, 54, 42, 23, 31, 51, 71, 46, 25, 35, 13, 21, 40,\n",
              "       16, 39, 37, 36, 41,  9, 77, 62,  6, 78, 56, 20,  5, 15, 55, 65, 33,\n",
              "       52, 73, 72, 10, 19, 66, 76, 48, 43, 14, 11,  1, 49, 68, 53,  4, 24,\n",
              "       47,  2,  3, 69,  0, 70, 18, 57,  8, 64,  7, 50])"
            ]
          },
          "metadata": {},
          "execution_count": 112
        }
      ]
    },
    {
      "cell_type": "code",
      "source": [
        "data1[\"Fare\"] =s.fit_transform(data1[\"Fare\"])\n",
        "data1[\"Fare\"].unique()"
      ],
      "metadata": {
        "colab": {
          "base_uri": "https://localhost:8080/"
        },
        "id": "F4JfIyYtWasz",
        "outputId": "684f6422-c087-49e7-a724-c16bd4c5dd10"
      },
      "execution_count": null,
      "outputs": [
        {
          "output_type": "execute_result",
          "data": {
            "text/plain": [
              "array([ 24,   5,  41,  34,  46,  37,  14, 100,   8,  89,  29,  93, 149,\n",
              "       135,  96,  47,   7,  30, 133,   1, 108, 136, 166,  61, 137, 104,\n",
              "        82, 106,  79,  88, 132,  31,  40, 131,  51,  94,  25,  50, 128,\n",
              "       102,  19, 145,  71, 134,  62,  86, 167,  68, 101,  15,  73,  52,\n",
              "        17,  80,  27, 118,  99, 162,  91,  65, 163,  43,  59,  56,  20,\n",
              "       127,  22, 146,  26, 130,  33,  85,  23,  35,  63,  21, 107,  10,\n",
              "         2,  74, 143,  70,   9,  87,  98,  90, 121, 159,  76, 126, 150,\n",
              "       169,  45, 105,  11,  53,  18,  83, 124, 110,  36, 113, 111, 129,\n",
              "       165,  72, 140, 109, 155,  42,  32,  66,  58, 164,  92,   6, 142,\n",
              "       119, 160,  54,  95,  64, 139,   3, 141, 144, 153, 103,  28,  97,\n",
              "       157,  38,  75,  48,   0,  77, 115,   4, 148, 117, 120,  39, 152,\n",
              "        57,  12, 156, 158, 161, 147,  69,  13, 168, 138, 125,  67, 112,\n",
              "        60, 116,  44, 123,  49,  81, 114,  78, 122,  55,  16, 151, 154,\n",
              "        84])"
            ]
          },
          "metadata": {},
          "execution_count": 113
        }
      ]
    },
    {
      "cell_type": "code",
      "source": [
        "print(\"---------------- FEATURES --------------------\")\n",
        "x = data1.iloc[:,:-1].values\n",
        "print(\"\\n\",x)"
      ],
      "metadata": {
        "id": "_6UvvTfaq4cT",
        "colab": {
          "base_uri": "https://localhost:8080/"
        },
        "outputId": "45dac072-bd98-4242-a366-d77c014deca4"
      },
      "execution_count": null,
      "outputs": [
        {
          "output_type": "stream",
          "name": "stdout",
          "text": [
            "---------------- FEATURES --------------------\n",
            "\n",
            " [[ 892    0  206 ...   24   76    1]\n",
            " [ 893    1  403 ...    5   76    2]\n",
            " [ 894    0  269 ...   41   76    1]\n",
            " ...\n",
            " [1307    0  332 ...    9   76    2]\n",
            " [1308    0  384 ...   31   76    2]\n",
            " [1309    0  302 ...   84   76    0]]\n"
          ]
        }
      ]
    },
    {
      "cell_type": "code",
      "source": [
        "print(\"-------------------- TARGET ---------------------\")\n",
        "y = data1[\"Pclass\"]\n",
        "print(\"\\n\",y)"
      ],
      "metadata": {
        "id": "FQue_RGgrAgx",
        "colab": {
          "base_uri": "https://localhost:8080/"
        },
        "outputId": "b8770933-b647-41e6-a430-4224cf5d82bc"
      },
      "execution_count": null,
      "outputs": [
        {
          "output_type": "stream",
          "name": "stdout",
          "text": [
            "-------------------- TARGET ---------------------\n",
            "\n",
            " 0      3\n",
            "1      3\n",
            "2      2\n",
            "3      3\n",
            "4      3\n",
            "      ..\n",
            "413    3\n",
            "414    1\n",
            "415    3\n",
            "416    3\n",
            "417    3\n",
            "Name: Pclass, Length: 418, dtype: int64\n"
          ]
        }
      ]
    },
    {
      "cell_type": "code",
      "source": [
        "print(\" ********************* DATA SPLITTING ************************* \")\n",
        "from sklearn.model_selection import train_test_split\n",
        "x_train,x_test,y_train,y_test = train_test_split(x,y,test_size=0.30,shuffle=True)\n",
        "print(\"--------------------------- X-Train ---------------------------\")\n",
        "print(\"\\n\",x_train)"
      ],
      "metadata": {
        "id": "0W2Qy2zFrH8m",
        "colab": {
          "base_uri": "https://localhost:8080/"
        },
        "outputId": "ac59bc72-1b27-43f9-e47f-de0d15b67be7"
      },
      "execution_count": null,
      "outputs": [
        {
          "output_type": "stream",
          "name": "stdout",
          "text": [
            " ********************* DATA SPLITTING ************************* \n",
            "--------------------------- X-Train ---------------------------\n",
            "\n",
            " [[1288    0   79 ...    9   76    1]\n",
            " [1278    0   14 ...   20   76    2]\n",
            " [1178    0  147 ...    9   76    2]\n",
            " ...\n",
            " [ 907    1  415 ...   96   76    0]\n",
            " [ 949    0    2 ...   15   71    2]\n",
            " [1229    0  131 ...    8   76    0]]\n"
          ]
        }
      ]
    },
    {
      "cell_type": "code",
      "source": [
        "print(\" --------------------------X- Test ----------------------------\")\n",
        "print(x_test)"
      ],
      "metadata": {
        "id": "89RvAcLYrMAR",
        "colab": {
          "base_uri": "https://localhost:8080/"
        },
        "outputId": "5d12c3c5-db86-457b-d9ed-e0751c0bdf03"
      },
      "execution_count": null,
      "outputs": [
        {
          "output_type": "stream",
          "name": "stdout",
          "text": [
            " --------------------------X- Test ----------------------------\n",
            "[[ 984    1  101 ...  127   19    2]\n",
            " [1137    0  208 ...  126   51    2]\n",
            " [ 892    0  206 ...   24   76    1]\n",
            " ...\n",
            " [1179    0  351 ...  149   12    2]\n",
            " [ 944    1  179 ...   86   76    2]\n",
            " [ 905    0  184 ...   93   76    2]]\n"
          ]
        }
      ]
    },
    {
      "cell_type": "code",
      "source": [
        "print(\" --------------------------- Y-Train ----------------------------\")\n",
        "print(y_train)"
      ],
      "metadata": {
        "id": "vmOP81BArOA7",
        "colab": {
          "base_uri": "https://localhost:8080/"
        },
        "outputId": "e302c044-74f9-452e-f72b-16bd484d0d58"
      },
      "execution_count": null,
      "outputs": [
        {
          "output_type": "stream",
          "name": "stdout",
          "text": [
            " --------------------------- Y-Train ----------------------------\n",
            "396    3\n",
            "386    3\n",
            "286    3\n",
            "95     3\n",
            "65     2\n",
            "      ..\n",
            "293    1\n",
            "183    3\n",
            "15     2\n",
            "57     3\n",
            "337    3\n",
            "Name: Pclass, Length: 292, dtype: int64\n"
          ]
        }
      ]
    },
    {
      "cell_type": "code",
      "source": [
        "print(\" --------------------------Y- Test ----------------------------\")\n",
        "print(y_test)"
      ],
      "metadata": {
        "id": "kQk300MFrSOn",
        "colab": {
          "base_uri": "https://localhost:8080/"
        },
        "outputId": "ea41b3ad-62f1-4b4d-b9fb-985d8c284d2d"
      },
      "execution_count": null,
      "outputs": [
        {
          "output_type": "stream",
          "name": "stdout",
          "text": [
            " --------------------------Y- Test ----------------------------\n",
            "92     1\n",
            "245    1\n",
            "0      3\n",
            "194    2\n",
            "94     1\n",
            "      ..\n",
            "211    3\n",
            "12     1\n",
            "287    1\n",
            "52     2\n",
            "13     2\n",
            "Name: Pclass, Length: 126, dtype: int64\n"
          ]
        }
      ]
    },
    {
      "cell_type": "code",
      "source": [
        "from sklearn.linear_model import LogisticRegression\n",
        "from sklearn.metrics import accuracy_score\n",
        "l=LogisticRegression()\n",
        "l.fit(x_train, y_train)\n",
        "pred=l.predict(x_test)\n",
        "print(\"---------------------- LOGISTIC REGRESSION ------------------------\")\n",
        "print(\"\\tAccuracy for Logistic Regression ----->\",accuracy_score(y_test,pred))"
      ],
      "metadata": {
        "id": "mn8HyQ9arX1X",
        "colab": {
          "base_uri": "https://localhost:8080/"
        },
        "outputId": "2ebda393-aa8f-42b9-e9be-158df8bd9820"
      },
      "execution_count": null,
      "outputs": [
        {
          "output_type": "stream",
          "name": "stdout",
          "text": [
            "---------------------- LOGISTIC REGRESSION ------------------------\n",
            "\tAccuracy for Logistic Regression -----> 0.7380952380952381\n"
          ]
        },
        {
          "output_type": "stream",
          "name": "stderr",
          "text": [
            "/usr/local/lib/python3.10/dist-packages/sklearn/linear_model/_logistic.py:458: ConvergenceWarning: lbfgs failed to converge (status=1):\n",
            "STOP: TOTAL NO. of ITERATIONS REACHED LIMIT.\n",
            "\n",
            "Increase the number of iterations (max_iter) or scale the data as shown in:\n",
            "    https://scikit-learn.org/stable/modules/preprocessing.html\n",
            "Please also refer to the documentation for alternative solver options:\n",
            "    https://scikit-learn.org/stable/modules/linear_model.html#logistic-regression\n",
            "  n_iter_i = _check_optimize_result(\n"
          ]
        }
      ]
    },
    {
      "cell_type": "code",
      "source": [
        "print(\"Confusion Matrics for Logistic Regression:\")\n",
        "from sklearn.metrics import confusion_matrix\n",
        "print(\"\\n\",confusion_matrix(y_test,pred))"
      ],
      "metadata": {
        "id": "EyYLvYLIrYsP",
        "colab": {
          "base_uri": "https://localhost:8080/"
        },
        "outputId": "04f74bb4-7fa5-4108-83f0-c11e1d80e068"
      },
      "execution_count": null,
      "outputs": [
        {
          "output_type": "stream",
          "name": "stdout",
          "text": [
            "Confusion Matrics for Logistic Regression:\n",
            "\n",
            " [[33  3  2]\n",
            " [ 4 12 16]\n",
            " [ 2  6 48]]\n"
          ]
        }
      ]
    },
    {
      "cell_type": "code",
      "source": [
        "from sklearn.metrics import classification_report\n",
        "print(\"**************************************************************\")\n",
        "print(\"\\tClassification Report for Logistic Regression:\")\n",
        "print(\"\\n\",classification_report(y_test,pred))\n",
        "print(\"**************************************************************\")"
      ],
      "metadata": {
        "id": "ezDBnjfSrbNe",
        "colab": {
          "base_uri": "https://localhost:8080/"
        },
        "outputId": "d5a80944-5933-4636-d1f1-cbbd8e53ed85"
      },
      "execution_count": null,
      "outputs": [
        {
          "output_type": "stream",
          "name": "stdout",
          "text": [
            "**************************************************************\n",
            "\tClassification Report for Logistic Regression:\n",
            "\n",
            "               precision    recall  f1-score   support\n",
            "\n",
            "           1       0.85      0.87      0.86        38\n",
            "           2       0.57      0.38      0.45        32\n",
            "           3       0.73      0.86      0.79        56\n",
            "\n",
            "    accuracy                           0.74       126\n",
            "   macro avg       0.71      0.70      0.70       126\n",
            "weighted avg       0.72      0.74      0.72       126\n",
            "\n",
            "**************************************************************\n"
          ]
        }
      ]
    }
  ]
}