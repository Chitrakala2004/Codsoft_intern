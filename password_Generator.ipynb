{
  "nbformat": 4,
  "nbformat_minor": 0,
  "metadata": {
    "colab": {
      "provenance": [],
      "authorship_tag": "ABX9TyMIYIuGEtVPRRpIRXNixoyR",
      "include_colab_link": true
    },
    "kernelspec": {
      "name": "python3",
      "display_name": "Python 3"
    },
    "language_info": {
      "name": "python"
    }
  },
  "cells": [
    {
      "cell_type": "markdown",
      "metadata": {
        "id": "view-in-github",
        "colab_type": "text"
      },
      "source": [
        "<a href=\"https://colab.research.google.com/github/Chitrakala2004/Codsoft_intern/blob/main/password_Generator.ipynb\" target=\"_parent\"><img src=\"https://colab.research.google.com/assets/colab-badge.svg\" alt=\"Open In Colab\"/></a>"
      ]
    },
    {
      "cell_type": "code",
      "execution_count": null,
      "metadata": {
        "colab": {
          "base_uri": "https://localhost:8080/"
        },
        "id": "d0pYxzn0I0bg",
        "outputId": "38a5ce27-572a-4a26-d4d2-bd1954ffb852"
      },
      "outputs": [
        {
          "output_type": "stream",
          "name": "stdout",
          "text": [
            "Enter the desired length of the password: 5\n",
            "Generated Password: MxR^I\n"
          ]
        }
      ],
      "source": [
        "import random\n",
        "import string\n",
        "\n",
        "def generate_password(length):\n",
        "    characters = string.ascii_letters + string.digits + string.punctuation\n",
        "    password = ''.join(random.choice(characters) for _ in range(length))\n",
        "\n",
        "    return password\n",
        "\n",
        "def main():\n",
        "    try:\n",
        "        password_length = int(input(\"Enter the desired length of the password: \"))\n",
        "    except ValueError:\n",
        "        print(\"Please enter a valid integer for the password length.\")\n",
        "        return\n",
        "\n",
        "    password = generate_password(password_length)\n",
        "    print(\"Generated Password:\", password)\n",
        "\n",
        "if __name__ == \"__main__\":\n",
        "    main()\n"
      ]
    }
  ]
}